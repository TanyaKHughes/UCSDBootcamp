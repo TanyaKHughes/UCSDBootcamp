{
  "nbformat": 4,
  "nbformat_minor": 0,
  "metadata": {
    "colab": {
      "provenance": [],
      "private_outputs": true,
      "collapsed_sections": [
        "gDxBkpwz2b9M",
        "DkbJaMJG5NEE",
        "KXgkNsYI5txR"
      ],
      "authorship_tag": "ABX9TyO+EWZgvg/o7/CoTPnqMOiz",
      "include_colab_link": true
    },
    "kernelspec": {
      "name": "python3",
      "display_name": "Python 3"
    },
    "language_info": {
      "name": "python"
    }
  },
  "cells": [
    {
      "cell_type": "markdown",
      "metadata": {
        "id": "view-in-github",
        "colab_type": "text"
      },
      "source": [
        "<a href=\"https://colab.research.google.com/github/TanyaKHughes/UCSDBootcamp/blob/main/Python_notes.ipynb\" target=\"_parent\"><img src=\"https://colab.research.google.com/assets/colab-badge.svg\" alt=\"Open In Colab\"/></a>"
      ]
    },
    {
      "cell_type": "markdown",
      "source": [
        "# Notes from Python Crash Course (Python Basics)"
      ],
      "metadata": {
        "id": "bc9j9loq2MmW"
      }
    },
    {
      "cell_type": "markdown",
      "source": [
        "## Variables\n",
        "\n",
        "\n",
        "\n",
        "\n",
        "\n",
        "\n",
        "\n",
        "\n",
        "\n",
        "\n"
      ],
      "metadata": {
        "id": "gDxBkpwz2b9M"
      }
    },
    {
      "cell_type": "markdown",
      "source": [
        "### Strings\n",
        "*   f-strings: f\"abc {variable name}\" or use ' ' instead\n",
        "\n",
        "Some methods to use on strings:\n",
        "*   str.upper()  --> to uppercase\n",
        "*   str.lower()  --> to lowercase\n",
        "*   str.title()  --> capitalize the first letters of the words\n",
        "*   str.strip()  --> remove whitespace, both sides\n",
        "*   str.rstrip(), str.lstrip() --> one side only"
      ],
      "metadata": {
        "id": "UW6sid5kAfzY"
      }
    },
    {
      "cell_type": "markdown",
      "source": [
        "### Numbers\n",
        "*   dividing two integers gives a float --> or you can use // which is integer division returns the answer minus the remainder or % returns the remainder\n",
        "*   += works\n",
        "*   :=  - this is an assignment operator to be used within an expression\n",
        "*   you can use a _ in the middle of a number definition and it is ignored\n",
        "*   you can assign multiple variables in a row:  x,y = 1,2 or even\n",
        "    my_list = [1,2,3,4],   v,x,y,z = my_list\n",
        "*   There is no constant type but just use all caps to designate one\n",
        "\n",
        "### Built-in functions having to do with math:\n",
        "*   abs()\n",
        "*   hex(), oct(), bin()\n",
        "*   divmod(x,y) - returns a tuple (x//y, x%y)\n",
        "*   pow(base, exp, mod = None) = returns base**exp or base**exp % mod\n",
        "*   round()\n",
        "*   sum()"
      ],
      "metadata": {
        "id": "duF7AU7ZAfn5"
      }
    },
    {
      "cell_type": "markdown",
      "source": [
        "### Built-in functions having to do with variable types:\n",
        "\n",
        "\n",
        "*   bin()\n",
        "*   bool()\n",
        "*   chr()\n",
        "*   complex()\n",
        "*   dict()\n",
        "*   float()\n",
        "*   int()\n",
        "*   str()\n",
        "*   tuple()\n",
        "*   type()"
      ],
      "metadata": {
        "id": "M7ZuqoukBDqm"
      }
    },
    {
      "cell_type": "code",
      "source": [
        "help(complex)"
      ],
      "metadata": {
        "id": "wZLnem2FCT4U"
      },
      "execution_count": null,
      "outputs": []
    },
    {
      "cell_type": "markdown",
      "source": [
        "## Comments"
      ],
      "metadata": {
        "id": "DkbJaMJG5NEE"
      }
    },
    {
      "cell_type": "markdown",
      "source": [
        "*   \\# Comment\n",
        "*   \"\"\" doc string \"\"\" - first line in a function or class; indented 4 spaces\n"
      ],
      "metadata": {
        "id": "wzv06RL2ujhd"
      }
    },
    {
      "cell_type": "markdown",
      "source": [
        "## Lists"
      ],
      "metadata": {
        "id": "KXgkNsYI5txR"
      }
    },
    {
      "cell_type": "code",
      "source": [
        "my_list = ['one', 'two', 3]\n",
        "print(my_list)\n",
        "\n",
        "# to access an element (0 - (n-1)):\n",
        "print(my_list[2])\n",
        "\n",
        "# add/take away:\n",
        "my_list.append('four')\n",
        "my_list.remove('two')  # removes only the first instance of 'two' that it finds\n",
        "print(my_list)\n",
        "my_list.insert(1,\"five\") # position 1 is the 2nd position\n",
        "print(my_list)\n",
        "del my_list[1] # delete the 2nd element\n",
        "print(my_list)\n",
        "\n",
        "a = my_list.pop() # removes the last element and returns it\n",
        "print(a)\n",
        "b = my_list.pop(1) # removes the element at position 1 and returns it\n",
        "print(b)\n",
        "print(my_list)"
      ],
      "metadata": {
        "id": "hN4aMfV8ux62"
      },
      "execution_count": null,
      "outputs": []
    },
    {
      "cell_type": "code",
      "source": [
        "# Sorting\n",
        "my_list = [5, 10, 3]\n",
        "my_list.sort()\n",
        "print(my_list)\n",
        "my_list.reverse()\n",
        "print(my_list)\n",
        "print(sorted(my_list))\n",
        "print(my_list)"
      ],
      "metadata": {
        "id": "glIHsqiXzC-P"
      },
      "execution_count": null,
      "outputs": []
    },
    {
      "cell_type": "code",
      "source": [
        "# length & such:\n",
        "my_list = ['apple', 'orange', 'banana', 'orange']\n",
        "print(len(my_list))\n",
        "print(my_list.count('orange'))  # returns the # of times 3 appears in the list\n",
        "print(my_list.index('orange')) # returns the index of the first instance of 'orange'"
      ],
      "metadata": {
        "id": "32rkCmmcz1LK"
      },
      "execution_count": null,
      "outputs": []
    },
    {
      "cell_type": "code",
      "source": [
        "# the rest of the list methods:\n",
        "new_list = my_list.copy()\n",
        "print(new_list)\n",
        "new_list.clear()\n",
        "print(new_list)\n",
        "new_list = my_list[:] # the other way to copy\n",
        "print(new_list)\n",
        "new_list = my_list[0:2] # slicing, does not include the last index; if you leave\n",
        "                        # a blank, it defaults to the first or last element\n",
        "print(new_list)\n",
        "my_list.extend(['grape', 'cherry'])  --> argument needs to be an iterable\n",
        "print(my_list)"
      ],
      "metadata": {
        "id": "tffVkguS1bfU"
      },
      "execution_count": null,
      "outputs": []
    },
    {
      "cell_type": "code",
      "source": [
        "# Looping through a list\n",
        "for item in my_list:\n",
        "  print(item)"
      ],
      "metadata": {
        "id": "EDLMvwUc2x1d"
      },
      "execution_count": null,
      "outputs": []
    },
    {
      "cell_type": "code",
      "source": [
        "# Some built-in functions:  range(), min(), max(), sum(), list(), zip()\n",
        "for i in range(3):\n",
        "  print(i)  # prints 0-2\n",
        "print(\"\\n\")\n",
        "for i in range(2, 5):\n",
        "  print(i)  # prints 2-4\n",
        "print(\"\\n\")\n",
        "for i in range(2, 10, 3):\n",
        "  print(i)\n",
        "print(\"\\n\")\n",
        "for i in range(10, 2, -3):\n",
        "  print(i)\n",
        "print(\"\\n\")\n",
        "\n",
        "numbers = list(range(3))\n",
        "print(numbers)\n",
        "print(f\"sum = {sum(numbers)}\")\n",
        "print(f\"min = {min(numbers)}\")\n",
        "print(f\"max = {max(numbers)}\")\n",
        "print(range(3))\n",
        "\n",
        "zip(list1, list2, list3) # returns an iterator of tuples wtih one element of\n",
        "                         # each list in each tuple, until one list runs out\n",
        "                         # Works with any iterables as input"
      ],
      "metadata": {
        "id": "J5lYRDOP3gtl"
      },
      "execution_count": null,
      "outputs": []
    },
    {
      "cell_type": "code",
      "source": [
        "# List comprehensions\n",
        "squares = [x**2 for x in range(10) if x%2 == 0]\n",
        "print(squares)"
      ],
      "metadata": {
        "id": "Cs6ENCR45d1u"
      },
      "execution_count": null,
      "outputs": []
    },
    {
      "cell_type": "markdown",
      "source": [
        "## Tuples"
      ],
      "metadata": {
        "id": "GF35Rh2n6Cdv"
      }
    },
    {
      "cell_type": "code",
      "source": [
        "# Tuples are constants - generally denoted with ();\n",
        "# can't change an individual element.\n",
        "# not sure why they don't use these for constants instead of ALL_CAPS variables\n",
        "my_tuple = (1, 2, 3)\n",
        "print(my_tuple)\n",
        "my_other_tuple = 4, 5, 6  # you don't need the (), just the comma\n",
        "print(my_other_tuple)\n",
        "my_const = 1,\n",
        "print(my_const)"
      ],
      "metadata": {
        "id": "ZlvX2DoW6EtA"
      },
      "execution_count": null,
      "outputs": []
    },
    {
      "cell_type": "markdown",
      "source": [
        "## Conditionals & Boolean statements"
      ],
      "metadata": {
        "id": "sD_5w2Q87GI4"
      }
    },
    {
      "cell_type": "code",
      "source": [
        "x, y = 3, 1\n",
        "if x == y:\n",
        "  print(\"x and y are equal\")\n",
        "elif x > y:\n",
        "  print(\"x is greater than y\")\n",
        "else:\n",
        "  print(\"x is less than y\")\n",
        "# other comparisions:  >, >=, <, <=, != , keyword in, not in, and, or, not\n",
        "x = [\"one\", \"two\", \"three\"]\n",
        "if \"one\" in x:\n",
        "  print(\"one is in x\")\n",
        "  print(x[0])\n",
        "# booleans: True, False; and empty list or a # = 0 are evaluated as False\n",
        "# anything blank is False:\n",
        "my_list = []\n",
        "print(my_list)\n",
        "if not my_list:\n",
        "  print(\"my_list is empty\")\n",
        "x = 0\n",
        "if not x:\n",
        "  print(\"x is zero\")"
      ],
      "metadata": {
        "id": "dtj-HBT_7QwR"
      },
      "execution_count": null,
      "outputs": []
    },
    {
      "cell_type": "code",
      "source": [
        "# Built-in functions: any(iterable) - returns T if any of the items are True\n",
        "# filter(functon or None, iterable) - returns an iterator on those items in the\n",
        "# the iterable for which function(item) = True.  If function = None, it returns\n",
        "# the items that are true\n",
        "x, y = 1, 2\n",
        "my_list = [[], 0, x == y]\n",
        "print(any(my_list))\n",
        "my_list.append(1)\n",
        "print(any(my_list))\n",
        "\n",
        "def is_even(x):\n",
        "  return x % 2 == 0\n",
        "my_list = [1, 2, 3, 4, 5]\n",
        "print(f\"My list = {my_list}\")\n",
        "print(f\"My filtered list = \", list(filter(is_even, my_list)))"
      ],
      "metadata": {
        "id": "wNc2w526WYSU"
      },
      "execution_count": null,
      "outputs": []
    },
    {
      "cell_type": "code",
      "source": [],
      "metadata": {
        "id": "JAGxVcbxcgLQ"
      },
      "execution_count": null,
      "outputs": []
    },
    {
      "cell_type": "markdown",
      "source": [
        "## Iterators"
      ],
      "metadata": {
        "id": "rypKsXz6c6ZK"
      }
    },
    {
      "cell_type": "code",
      "source": [
        "# you need to define 2 methods in the class to make the object an iterable:\n",
        "# __iter__ and __next__\n",
        "# def __iter__(self):\n",
        "#   yield from (self.x, self.y, self.z)\n",
        "# or often just return self"
      ],
      "metadata": {
        "id": "RY0IBj-cc8ai"
      },
      "execution_count": null,
      "outputs": []
    },
    {
      "cell_type": "markdown",
      "source": [
        "## Dictionaries"
      ],
      "metadata": {
        "id": "L0Y0802YV5AY"
      }
    },
    {
      "cell_type": "code",
      "source": [],
      "metadata": {
        "id": "9U5XT4xRV-UQ"
      },
      "execution_count": null,
      "outputs": []
    }
  ]
}